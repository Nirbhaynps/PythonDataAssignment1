{
 "cells": [
  {
   "cell_type": "raw",
   "id": "2ab88c2e-a0a3-4514-9829-abd93e1c1d98",
   "metadata": {},
   "source": [
    "\n",
    "ANSWERS\n",
    "\n",
    "1. What are data structures, and why are they important?\n",
    "Data structures are ways of organizing and storing data in a computer so that it can be accessed and modified efficiently. They are important because they help optimize performance and enable effective data management.\n",
    "\n",
    "2. Explain the difference between mutable and immutable data types with examples.\n",
    "\n",
    "Mutable: Can be changed after creation (e.g., list, dict).\n",
    "Example: my_list = [1, 2]; my_list[0] = 0\n",
    "\n",
    "Immutable: Cannot be changed after creation (e.g., int, str, tuple).\n",
    "Example: my_str = \"hello\"; my_str[0] = 'H' → Error\n",
    "\n",
    "3. What are the main differences between lists and tuples in Python?\n",
    "\n",
    "Lists are mutable, can be modified, and have more built-in methods.\n",
    "\n",
    "Tuples are immutable, use less memory, and are faster for fixed data.\n",
    "\n",
    "4. Describe how dictionaries store data.\n",
    "Dictionaries store data as key-value pairs using a hash table internally. Keys are hashed to determine where their associated values are stored.\n",
    "\n",
    "5. Why might you use a set instead of a list in Python?\n",
    "Sets automatically eliminate duplicates and offer faster membership tests (in operator) compared to lists.\n",
    "\n",
    "6. What is a string in Python, and how is it different from a list?\n",
    "A string is an immutable sequence of characters. A list is mutable and can store any data type. Strings can't be changed, but lists can.\n",
    "\n",
    "7. How do tuples ensure data integrity in Python?\n",
    "Since tuples are immutable, their data cannot be changed after creation, ensuring that the data remains consistent and protected from accidental modification.\n",
    "\n",
    "8. What is a hash table, and how does it relate to dictionaries in Python?\n",
    "A hash table is a data structure that maps keys to values using a hash function. Python dictionaries are implemented using hash tables.\n",
    "\n",
    "9. Can lists contain different data types in Python?\n",
    "Yes, lists can hold multiple data types, such as integers, strings, and objects in the same list.\n",
    "\n",
    "10. Explain why strings are immutable in Python.\n",
    "Strings are immutable to optimize memory usage and performance. It also ensures that string objects are thread-safe and hashable.\n",
    "\n",
    "11. What advantages do dictionaries offer over lists for certain tasks?\n",
    "Dictionaries allow for fast key-based access, making them ideal for lookups, mappings, and associative arrays, unlike lists that require linear searches.\n",
    "\n",
    "12. Describe a scenario where using a tuple would be preferable over a list.\n",
    "Use a tuple for fixed data that shouldn’t change, like coordinates (x, y) or database records, to prevent accidental modification.\n",
    "\n",
    "13. How do sets handle duplicate values in Python?\n",
    "Sets automatically remove duplicates, storing only unique elements.\n",
    "\n",
    "14. How does the “in” keyword work differently for lists and dictionaries?\n",
    "\n",
    "In lists: checks for the presence of a value.\n",
    "\n",
    "In dictionaries: checks for the presence of a key.\n",
    "\n",
    "15. Can you modify the elements of a tuple? Explain why or why not.\n",
    "No, tuples are immutable. Once created, their elements cannot be changed, added, or removed.\n",
    "\n",
    "16. What is a nested dictionary, and give an example of its use case.\n",
    "A nested dictionary is a dictionary within another dictionary.\n",
    "Example:\n",
    "\n",
    "python\n",
    "Copy code\n",
    "students = {\n",
    "  \"Alice\": {\"age\": 20, \"grade\": \"A\"},\n",
    "  \"Bob\": {\"age\": 22, \"grade\": \"B\"}\n",
    "}\n",
    "17. Describe the time complexity of accessing elements in a dictionary.\n",
    "Accessing an element by key in a dictionary is O(1) on average due to hashing.\n",
    "\n",
    "18. In what situations are lists preferred over dictionaries?\n",
    "Lists are preferred when order matters, or when storing sequences of items without unique identifiers (like a list of numbers or names).\n",
    "\n",
    "19. Why are dictionaries considered unordered, and how does that affect data retrieval?\n",
    "Historically, dictionaries were unordered, meaning they didn’t maintain insertion order. In Python 3.7+, they preserve insertion order, but retrieval is still based on keys, not position.\n",
    "\n",
    "20. Explain the difference between a list and a dictionary in terms of data retrieval.\n",
    "\n",
    "List: Access by index (e.g., my_list[0]) → position-based.// require index.\n",
    "\n",
    "Dictionary: Access by key (e.g., my_dict[\"name\"]) → key-based.// require key to fetch value.\n"
   ]
  },
  {
   "cell_type": "code",
   "execution_count": 3,
   "id": "e6e6409c-ca0b-4261-a4dc-14a69e97899a",
   "metadata": {},
   "outputs": [
    {
     "name": "stdout",
     "output_type": "stream",
     "text": [
      "Nirbhay\n"
     ]
    }
   ],
   "source": [
    "#1. Write a code to create a string with your name and print it\n",
    "\n",
    "name = \"Nirbhay\"\n",
    "print(name)\n"
   ]
  },
  {
   "cell_type": "code",
   "execution_count": 4,
   "id": "2dbdbede-036e-419c-a7db-fa7bb3c25789",
   "metadata": {},
   "outputs": [
    {
     "name": "stdout",
     "output_type": "stream",
     "text": [
      "11\n"
     ]
    }
   ],
   "source": [
    "#2. Write a code to find the length of the string \"Hello World\"\n",
    "\n",
    "text = \"Hello World\"\n",
    "print(len(text))"
   ]
  },
  {
   "cell_type": "code",
   "execution_count": 5,
   "id": "cfea8415-fed5-4f6e-9e0a-738f2df2aa24",
   "metadata": {},
   "outputs": [
    {
     "name": "stdout",
     "output_type": "stream",
     "text": [
      "Pyt\n"
     ]
    }
   ],
   "source": [
    "#3. Write a code to slice the first 3 characters from the string \"Python Programming\"\n",
    "\n",
    "\n",
    "text = \"Python Programming\"\n",
    "print(text[:3])"
   ]
  },
  {
   "cell_type": "code",
   "execution_count": 6,
   "id": "be5eb1eb-7516-4876-a283-a853f1df697a",
   "metadata": {},
   "outputs": [
    {
     "name": "stdout",
     "output_type": "stream",
     "text": [
      "HELLO\n"
     ]
    }
   ],
   "source": [
    "#4. Write a code to convert the string \"hello\" to uppercase\n",
    "\n",
    "text = \"hello\"\n",
    "print(text.upper())"
   ]
  },
  {
   "cell_type": "code",
   "execution_count": 8,
   "id": "71f29372-970e-41bb-8788-08c82ddbec44",
   "metadata": {},
   "outputs": [
    {
     "name": "stdout",
     "output_type": "stream",
     "text": [
      "I like orange\n"
     ]
    }
   ],
   "source": [
    "#5.Write a code to replace the word \"apple\" with \"orange\" in the string \"I like apple\"\n",
    "\n",
    "text = \"I like apple\"\n",
    "print(text.replace(\"apple\", \"orange\"))"
   ]
  },
  {
   "cell_type": "code",
   "execution_count": 9,
   "id": "ae852756-4dc8-44f3-93e0-882e17d15a56",
   "metadata": {},
   "outputs": [
    {
     "name": "stdout",
     "output_type": "stream",
     "text": [
      "[1, 2, 3, 4, 5]\n"
     ]
    }
   ],
   "source": [
    "#6. Write a code to create a list with numbers 1 to 5 and print it\n",
    "\n",
    "numbers = [1, 2, 3, 4, 5]\n",
    "print(numbers)"
   ]
  },
  {
   "cell_type": "code",
   "execution_count": 10,
   "id": "a656376f-a8d6-400d-929a-9ff98c5e4110",
   "metadata": {},
   "outputs": [
    {
     "name": "stdout",
     "output_type": "stream",
     "text": [
      "[1, 2, 3, 4, 10]\n"
     ]
    }
   ],
   "source": [
    "#7. Write a code to append the number 10 to the list [1, 2, 3, 4]\n",
    "\n",
    "numbers = [1, 2, 3, 4]\n",
    "numbers.append(10)\n",
    "print(numbers)"
   ]
  },
  {
   "cell_type": "code",
   "execution_count": 11,
   "id": "efee46ad-402b-4c10-b9a3-84df1be8cf11",
   "metadata": {},
   "outputs": [
    {
     "name": "stdout",
     "output_type": "stream",
     "text": [
      "[1, 2, 4, 5]\n"
     ]
    }
   ],
   "source": [
    "#8. Write a code to remove the number 3 from the list [1, 2, 3, 4, 5]\n",
    "\n",
    "numbers = [1, 2, 3, 4, 5]\n",
    "numbers.remove(3)\n",
    "print(numbers)"
   ]
  },
  {
   "cell_type": "code",
   "execution_count": 13,
   "id": "f2dacf68-60b3-4f89-8e8b-dae0da134f25",
   "metadata": {},
   "outputs": [
    {
     "name": "stdout",
     "output_type": "stream",
     "text": [
      "b\n"
     ]
    }
   ],
   "source": [
    "#9. Write a code to access the second element in the list ['a', 'b', 'c', 'd']\n",
    "\n",
    "letters = ['a', 'b', 'c', 'd']\n",
    "print(letters[1])"
   ]
  },
  {
   "cell_type": "code",
   "execution_count": 14,
   "id": "f25f87f5-218c-43c7-ac2d-da54ff37dc66",
   "metadata": {},
   "outputs": [
    {
     "name": "stdout",
     "output_type": "stream",
     "text": [
      "[50, 40, 30, 20, 10]\n"
     ]
    }
   ],
   "source": [
    "#10. Write a code to reverse the list [10, 20, 30, 40, 50]\n",
    "\n",
    "numbers = [10, 20, 30, 40, 50]\n",
    "print(numbers[::-1])"
   ]
  },
  {
   "cell_type": "code",
   "execution_count": 15,
   "id": "27511bfd-517b-47c2-9cc9-f640c6f29c80",
   "metadata": {},
   "outputs": [
    {
     "name": "stdout",
     "output_type": "stream",
     "text": [
      "(100, 200, 300)\n"
     ]
    }
   ],
   "source": [
    "#11. Write a code to create a tuple with the elements 100, 200, 300 and print it\n",
    "\n",
    "my_tuple = (100, 200, 300)\n",
    "print(my_tuple)"
   ]
  },
  {
   "cell_type": "code",
   "execution_count": 16,
   "id": "5107c9fc-17a7-4d77-bff2-979ee8a85be7",
   "metadata": {},
   "outputs": [
    {
     "name": "stdout",
     "output_type": "stream",
     "text": [
      "blue\n"
     ]
    }
   ],
   "source": [
    "#12. Write a code to access the second-to-last element of the tuple ('red', 'green', 'blue', 'yellow')\n",
    "\n",
    "colors = ('red', 'green', 'blue', 'yellow')\n",
    "print(colors[-2])"
   ]
  },
  {
   "cell_type": "code",
   "execution_count": 17,
   "id": "cf1f7398-3551-4904-8a51-e8448308f47e",
   "metadata": {},
   "outputs": [
    {
     "name": "stdout",
     "output_type": "stream",
     "text": [
      "5\n"
     ]
    }
   ],
   "source": [
    "#13. Write a code to find the minimum number in the tuple (10, 20, 5, 15)\n",
    "\n",
    "values = (10, 20, 5, 15)\n",
    "print(min(values))"
   ]
  },
  {
   "cell_type": "code",
   "execution_count": 18,
   "id": "26b5733e-0ffe-46db-9db7-268097b5ecba",
   "metadata": {},
   "outputs": [
    {
     "name": "stdout",
     "output_type": "stream",
     "text": [
      "1\n"
     ]
    }
   ],
   "source": [
    "#14. Write a code to find the index of the element \"cat\" in the tuple ('dog', 'cat', 'rabbit')\n",
    "\n",
    "animals = ('dog', 'cat', 'rabbit')\n",
    "print(animals.index(\"cat\"))"
   ]
  },
  {
   "cell_type": "code",
   "execution_count": 19,
   "id": "c0e3dc50-122b-463b-8ae1-3de778483932",
   "metadata": {},
   "outputs": [
    {
     "name": "stdout",
     "output_type": "stream",
     "text": [
      "True\n"
     ]
    }
   ],
   "source": [
    "#15. Write a code to create a tuple containing three different fruits and check if \"kiwi\" is in it\n",
    "\n",
    "fruits = (\"apple\", \"banana\", \"kiwi\")\n",
    "print(\"kiwi\" in fruits)"
   ]
  },
  {
   "cell_type": "code",
   "execution_count": 20,
   "id": "d52516f9-b435-46ed-96c5-77adb934f15d",
   "metadata": {},
   "outputs": [
    {
     "name": "stdout",
     "output_type": "stream",
     "text": [
      "{'b', 'c', 'a'}\n"
     ]
    }
   ],
   "source": [
    "#16. Write a code to create a set with the elements 'a', 'b', 'c' and print it\n",
    "\n",
    "my_set = {'a', 'b', 'c'}\n",
    "print(my_set)"
   ]
  },
  {
   "cell_type": "code",
   "execution_count": 21,
   "id": "ebc19f88-9981-4965-ba91-262f654c70d3",
   "metadata": {},
   "outputs": [
    {
     "name": "stdout",
     "output_type": "stream",
     "text": [
      "set()\n"
     ]
    }
   ],
   "source": [
    "#17. Write a code to clear all elements from the set {1, 2, 3, 4, 5}\n",
    "\n",
    "s = {1, 2, 3, 4, 5}\n",
    "s.clear()\n",
    "print(s)"
   ]
  },
  {
   "cell_type": "code",
   "execution_count": 22,
   "id": "147709a9-07f1-49ef-b0e6-3340e9bece75",
   "metadata": {},
   "outputs": [
    {
     "name": "stdout",
     "output_type": "stream",
     "text": [
      "{1, 2, 3}\n"
     ]
    }
   ],
   "source": [
    "#18. Write a code to remove the element 4 from the set {1, 2, 3, 4}\n",
    "\n",
    "s = {1, 2, 3, 4}\n",
    "s.remove(4)\n",
    "print(s)"
   ]
  },
  {
   "cell_type": "code",
   "execution_count": 24,
   "id": "a17abd17-39b2-4b0a-8d22-0958d037ce20",
   "metadata": {},
   "outputs": [
    {
     "name": "stdout",
     "output_type": "stream",
     "text": [
      "{1, 2, 3, 4, 5}\n"
     ]
    }
   ],
   "source": [
    "#19. Write a code to find the union of two sets {1, 2, 3} and {3, 4, 5}\n",
    "\n",
    "a = {1, 2, 3}\n",
    "b = {3, 4, 5}\n",
    "print(a.union(b))"
   ]
  },
  {
   "cell_type": "code",
   "execution_count": 25,
   "id": "14d604b0-f0f1-47d8-88a1-ee9285738a8a",
   "metadata": {},
   "outputs": [
    {
     "name": "stdout",
     "output_type": "stream",
     "text": [
      "{2, 3}\n"
     ]
    }
   ],
   "source": [
    "#20. Write a code to find the intersection of two sets {1, 2, 3} and {2, 3, 4}\n",
    "\n",
    "a = {1, 2, 3}\n",
    "b = {2, 3, 4}\n",
    "print(a.intersection(b))"
   ]
  },
  {
   "cell_type": "code",
   "execution_count": 26,
   "id": "6bff3f94-9ba7-4b80-8ce4-60237586436e",
   "metadata": {},
   "outputs": [
    {
     "name": "stdout",
     "output_type": "stream",
     "text": [
      "{'name': 'Alice', 'age': 30, 'city': 'Paris'}\n"
     ]
    }
   ],
   "source": [
    "#21. Write a code to create a dictionary with the keys \"name\", \"age\", and \"city\", and print it\n",
    "\n",
    "person = {\"name\": \"Alice\", \"age\": 30, \"city\": \"Paris\"}\n",
    "print(person)"
   ]
  },
  {
   "cell_type": "code",
   "execution_count": 27,
   "id": "6b068048-25bc-4741-9c22-853da8d19563",
   "metadata": {},
   "outputs": [
    {
     "name": "stdout",
     "output_type": "stream",
     "text": [
      "{'name': 'John', 'age': 25, 'country': 'USA'}\n"
     ]
    }
   ],
   "source": [
    "#22. Write a code to add a new key-value pair \"country\": \"USA\" to the dictionary {'name': 'John', 'age': 25}\n",
    "\n",
    "person = {'name': 'John', 'age': 25}\n",
    "person[\"country\"] = \"USA\"\n",
    "print(person)"
   ]
  },
  {
   "cell_type": "code",
   "execution_count": 29,
   "id": "391ea01e-485f-49a0-83b3-6115f343536c",
   "metadata": {},
   "outputs": [
    {
     "name": "stdout",
     "output_type": "stream",
     "text": [
      "Alice\n"
     ]
    }
   ],
   "source": [
    "#23. Write a code to access the value associated with the key \"name\" in the dictionary {'name': 'Alice', 'age': 30}\n",
    "\n",
    "person = {'name': 'Alice', 'age': 30}\n",
    "print(person[\"name\"])"
   ]
  },
  {
   "cell_type": "code",
   "execution_count": 30,
   "id": "1ce6b832-948c-4b5a-8760-24a3c2183541",
   "metadata": {},
   "outputs": [
    {
     "name": "stdout",
     "output_type": "stream",
     "text": [
      "{'name': 'Bob', 'city': 'New York'}\n"
     ]
    }
   ],
   "source": [
    "#24. Write a code to remove the key \"age\" from the dictionary {'name': 'Bob', 'age': 22, 'city': 'New York'}\n",
    "\n",
    "person = {'name': 'Bob', 'age': 22, 'city': 'New York'}\n",
    "del person[\"age\"]\n",
    "print(person)"
   ]
  },
  {
   "cell_type": "code",
   "execution_count": 31,
   "id": "a1e0ab4b-1d97-48fb-a093-2f4747d3bc68",
   "metadata": {},
   "outputs": [
    {
     "name": "stdout",
     "output_type": "stream",
     "text": [
      "True\n"
     ]
    }
   ],
   "source": [
    "#25. Write a code to check if the key \"city\" exists in the dictionary {'name': 'Alice', 'city': 'Paris'}\n",
    "\n",
    "person = {'name': 'Alice', 'city': 'Paris'}\n",
    "print(\"city\" in person)"
   ]
  },
  {
   "cell_type": "code",
   "execution_count": 32,
   "id": "8aca096a-d9eb-478b-bf7e-8209b569a129",
   "metadata": {},
   "outputs": [
    {
     "name": "stdout",
     "output_type": "stream",
     "text": [
      "[1, 2, 3]\n",
      "(4, 5, 6)\n",
      "{'a': 1, 'b': 2}\n"
     ]
    }
   ],
   "source": [
    "#26. Write a code to create a list, a tuple, and a dictionary, and print them all\n",
    "\n",
    "my_list = [1, 2, 3]\n",
    "my_tuple = (4, 5, 6)\n",
    "my_dict = {\"a\": 1, \"b\": 2}\n",
    "print(my_list)\n",
    "print(my_tuple)\n",
    "print(my_dict)"
   ]
  },
  {
   "cell_type": "code",
   "execution_count": 33,
   "id": "d78859c9-7552-4135-9403-875bff3e5abe",
   "metadata": {},
   "outputs": [
    {
     "name": "stdout",
     "output_type": "stream",
     "text": [
      "[6, 10, 26, 44, 53]\n"
     ]
    }
   ],
   "source": [
    "#27. Write a code to create a list of 5 random numbers between 1 and 100, sort it in ascending order, and print the result\n",
    "\n",
    "import random\n",
    "nums = random.sample(range(1, 101), 5)\n",
    "nums.sort()\n",
    "print(nums)"
   ]
  },
  {
   "cell_type": "code",
   "execution_count": 34,
   "id": "9f74df55-a7f8-41aa-a92c-656eba437744",
   "metadata": {},
   "outputs": [
    {
     "name": "stdout",
     "output_type": "stream",
     "text": [
      "{'a': 1, 'b': 2, 'c': 3, 'd': 4}\n"
     ]
    }
   ],
   "source": [
    "#29. Write a code to combine two dictionaries into one and print the result\n",
    "\n",
    "dict1 = {\"a\": 1, \"b\": 2}\n",
    "dict2 = {\"c\": 3, \"d\": 4}\n",
    "combined = {**dict1, **dict2}\n",
    "print(combined)"
   ]
  },
  {
   "cell_type": "code",
   "execution_count": 35,
   "id": "5cd3773f-e849-4934-a1b7-4cfb6a835635",
   "metadata": {},
   "outputs": [
    {
     "name": "stdout",
     "output_type": "stream",
     "text": [
      "{'banana', 'apple', 'cherry'}\n"
     ]
    }
   ],
   "source": [
    "#30. Write a code to convert a list of strings into a set\n",
    "\n",
    "words = [\"apple\", \"banana\", \"apple\", \"cherry\"]\n",
    "unique_words = set(words)\n",
    "print(unique_words)"
   ]
  }
 ],
 "metadata": {
  "kernelspec": {
   "display_name": "Python 3 (ipykernel)",
   "language": "python",
   "name": "python3"
  },
  "language_info": {
   "codemirror_mode": {
    "name": "ipython",
    "version": 3
   },
   "file_extension": ".py",
   "mimetype": "text/x-python",
   "name": "python",
   "nbconvert_exporter": "python",
   "pygments_lexer": "ipython3",
   "version": "3.13.2"
  }
 },
 "nbformat": 4,
 "nbformat_minor": 5
}
